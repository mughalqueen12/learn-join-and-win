# Initial values of Alpha and Beta
MIN, MAX = -500, 500

# Returns optimal value for current player (Initially called for root and maximizer)
def alpha_beta_pruning(depth, nodeIndex, maximizingPlayer, values, alpha, beta):
    # Terminating condition i.e., leaf node is reached
    if depth == 2:
        return values[nodeIndex]

    if maximizingPlayer:
        best = MIN

        # Recur for left and right children
        for i in range(0, 2):
            val = alpha_beta_pruning(depth + 1, nodeIndex * 2 + i, False, values, alpha, beta)
            best = max(best, val)
            alpha = max(alpha, best)

            # Alpha Beta Pruning
            if beta <= alpha:
                break

        return best

    else:
        best = MAX

        # Recur for left and right children
        for i in range(0, 2):
            val = alpha_beta_pruning(depth + 1, nodeIndex * 2 + i, True, values, alpha, beta)
            best = min(best, val)
            beta = min(beta, best)

            # Alpha Beta Pruning
            if beta <= alpha:
                break

        return best

# Example usage
if __name__ == "__main__":
    leaf_values = [100, -200, 150, 300, -250, 400, -300, 450, 200, 350, -400, 500, -450, 50, 0, -500]
  # Replace this with your 16 leaf values
    result = alpha_beta_pruning(0, 2, True, leaf_values, MIN, MAX)
    print("The optimal value is:", result)

optimal value is 200
